{
 "cells": [
  {
   "cell_type": "markdown",
   "metadata": {},
   "source": [
    "# Notebook for Part 2 of Kaggle NLP Tutorial\n",
    "\n",
    "*https://www.kaggle.com/c/word2vec-nlp-tutorial/details/part-2-word-vectors*"
   ]
  },
  {
   "cell_type": "code",
   "execution_count": 1,
   "metadata": {
    "collapsed": false
   },
   "outputs": [],
   "source": [
    "import os\n",
    "import re\n",
    "import numpy as np\n",
    "import pandas as pd\n",
    "\n",
    "from bs4 import BeautifulSoup\n",
    "\n",
    "import nltk.data\n",
    "#nltk.download()\n",
    "from nltk.corpus import stopwords\n",
    "\n",
    "from gensim.models.word2vec import Word2Vec\n",
    "\n",
    "from sklearn.ensemble import RandomForestClassifier\n",
    "from sklearn.metrics import confusion_matrix"
   ]
  },
  {
   "cell_type": "code",
   "execution_count": 2,
   "metadata": {
    "collapsed": false
   },
   "outputs": [],
   "source": [
    "def load_dataset(name, nrows=None):\n",
    "    datasets = {\n",
    "        'unlabeled_train': 'unlabeledTrainData.tsv',\n",
    "        'labeled_train': 'labeledTrainData.tsv',\n",
    "        'test': 'testData.tsv'\n",
    "    }\n",
    "    if name not in datasets:\n",
    "        raise ValueError(name)\n",
    "    data_file = os.path.join('..', 'data', datasets[name])\n",
    "    df = pd.read_csv(data_file, sep='\\t', escapechar='\\\\', nrows=nrows)\n",
    "    print('Number of reviews: {}'.format(len(df)))\n",
    "    return df"
   ]
  },
  {
   "cell_type": "markdown",
   "metadata": {},
   "source": [
    "### First load in the unlabeled dataset.\n",
    "This will be used for training the word vectors."
   ]
  },
  {
   "cell_type": "code",
   "execution_count": 22,
   "metadata": {
    "collapsed": false
   },
   "outputs": [
    {
     "name": "stdout",
     "output_type": "stream",
     "text": [
      "Number of reviews: 50000\n"
     ]
    },
    {
     "data": {
      "text/html": [
       "<div>\n",
       "<table border=\"1\" class=\"dataframe\">\n",
       "  <thead>\n",
       "    <tr style=\"text-align: right;\">\n",
       "      <th></th>\n",
       "      <th>id</th>\n",
       "      <th>review</th>\n",
       "    </tr>\n",
       "  </thead>\n",
       "  <tbody>\n",
       "    <tr>\n",
       "      <th>0</th>\n",
       "      <td>9999_0</td>\n",
       "      <td>Watching Time Chasers, it obvious that it was ...</td>\n",
       "    </tr>\n",
       "    <tr>\n",
       "      <th>1</th>\n",
       "      <td>45057_0</td>\n",
       "      <td>I saw this film about 20 years ago and remembe...</td>\n",
       "    </tr>\n",
       "    <tr>\n",
       "      <th>2</th>\n",
       "      <td>15561_0</td>\n",
       "      <td>Minor Spoilers&lt;br /&gt;&lt;br /&gt;In New York, Joan Ba...</td>\n",
       "    </tr>\n",
       "    <tr>\n",
       "      <th>3</th>\n",
       "      <td>7161_0</td>\n",
       "      <td>I went to see this film with a great deal of e...</td>\n",
       "    </tr>\n",
       "    <tr>\n",
       "      <th>4</th>\n",
       "      <td>43971_0</td>\n",
       "      <td>Yes, I agree with everyone on this site this m...</td>\n",
       "    </tr>\n",
       "  </tbody>\n",
       "</table>\n",
       "</div>"
      ],
      "text/plain": [
       "        id                                             review\n",
       "0   9999_0  Watching Time Chasers, it obvious that it was ...\n",
       "1  45057_0  I saw this film about 20 years ago and remembe...\n",
       "2  15561_0  Minor Spoilers<br /><br />In New York, Joan Ba...\n",
       "3   7161_0  I went to see this film with a great deal of e...\n",
       "4  43971_0  Yes, I agree with everyone on this site this m..."
      ]
     },
     "execution_count": 22,
     "metadata": {},
     "output_type": "execute_result"
    }
   ],
   "source": [
    "df = load_dataset('unlabeled_train')\n",
    "df.head()"
   ]
  },
  {
   "cell_type": "markdown",
   "metadata": {},
   "source": [
    "### Next, clean the text similarly to part 1 and divide into sentences\n",
    "However, this time do not remove stopwords. Sentences are split using the nltk punkt tokenizer. The result is a list of sentences obtained from all the reviews combined, and each sentence is a list of cleaned words (still including stopwords)."
   ]
  },
  {
   "cell_type": "code",
   "execution_count": 3,
   "metadata": {
    "collapsed": false
   },
   "outputs": [],
   "source": [
    "eng_stopwords = set(stopwords.words('english'))\n",
    "\n",
    "def clean_text(text, remove_stopwords=False):\n",
    "    text = BeautifulSoup(text, 'html.parser').get_text()\n",
    "    text = re.sub(r'[^a-zA-Z]', ' ', text)\n",
    "    words = text.lower().split()\n",
    "    if remove_stopwords:\n",
    "        words = [w for w in words if w not in eng_stopwords]\n",
    "    return words\n",
    "\n",
    "tokenizer = nltk.data.load('tokenizers/punkt/english.pickle')\n",
    "\n",
    "def print_call_counts(f):\n",
    "    n = 0\n",
    "    def wrapped(*args, **kwargs):\n",
    "        nonlocal n\n",
    "        n += 1\n",
    "        if n % 1000 == 1:\n",
    "            print('method {} called {} times'.format(f.__name__, n))\n",
    "        return f(*args, **kwargs)\n",
    "    return wrapped\n",
    "\n",
    "@print_call_counts\n",
    "def split_sentences(review):\n",
    "    raw_sentences = tokenizer.tokenize(review.strip())\n",
    "    sentences = [clean_text(s) for s in raw_sentences if s]\n",
    "    return sentences"
   ]
  },
  {
   "cell_type": "code",
   "execution_count": null,
   "metadata": {
    "collapsed": false,
    "scrolled": false
   },
   "outputs": [],
   "source": [
    "%time sentences = sum(df.review.apply(split_sentences), [])\n",
    "print('{} reviews -> {} sentences'.format(len(df), len(sentences)))"
   ]
  },
  {
   "cell_type": "markdown",
   "metadata": {},
   "source": [
    "### Here we will train the word vector model\n",
    "Default logging setup and parameters taken from the tutorial."
   ]
  },
  {
   "cell_type": "code",
   "execution_count": 12,
   "metadata": {
    "collapsed": true
   },
   "outputs": [],
   "source": [
    "import logging\n",
    "logging.basicConfig(format='%(asctime)s : %(levelname)s : %(message)s', level=logging.INFO)"
   ]
  },
  {
   "cell_type": "code",
   "execution_count": 4,
   "metadata": {
    "collapsed": true
   },
   "outputs": [],
   "source": [
    "# Set values for various parameters\n",
    "num_features = 300    # Word vector dimensionality\n",
    "min_word_count = 40   # Minimum word count\n",
    "num_workers = 4       # Number of threads to run in parallel\n",
    "context = 10          # Context window size\n",
    "downsampling = 1e-3   # Downsample setting for frequent words\n",
    "\n",
    "model_name = '{}features_{}minwords_{}context.model'.format(num_features, min_word_count, context)"
   ]
  },
  {
   "cell_type": "code",
   "execution_count": 14,
   "metadata": {
    "collapsed": false
   },
   "outputs": [
    {
     "name": "stdout",
     "output_type": "stream",
     "text": [
      "Training model...\n"
     ]
    }
   ],
   "source": [
    "print('Training model...')\n",
    "model = word2vec.Word2Vec(sentences, workers=num_workers, \\\n",
    "            size=num_features, min_count = min_word_count, \\\n",
    "            window = context, sample = downsampling)\n",
    "\n",
    "# If you don't plan to train the model any further, calling \n",
    "# init_sims will make the model much more memory-efficient.\n",
    "model.init_sims(replace=True)\n",
    "\n",
    "# It can be helpful to create a meaningful model name and \n",
    "# save the model for later use. You can load it later using Word2Vec.load()\n",
    "model.save(os.path.join('..', 'models', model_name))"
   ]
  },
  {
   "cell_type": "markdown",
   "metadata": {},
   "source": [
    "### Alternatively, we can load a pre-existing Model"
   ]
  },
  {
   "cell_type": "code",
   "execution_count": 19,
   "metadata": {
    "collapsed": true
   },
   "outputs": [],
   "source": [
    "model = Word2Vec.load(os.path.join('..', 'models', model_name))"
   ]
  },
  {
   "cell_type": "markdown",
   "metadata": {},
   "source": [
    "### Some examples of how the model works"
   ]
  },
  {
   "cell_type": "code",
   "execution_count": 6,
   "metadata": {
    "collapsed": false
   },
   "outputs": [
    {
     "name": "stdout",
     "output_type": "stream",
     "text": [
      "kitchen\n",
      "berlin\n"
     ]
    }
   ],
   "source": [
    "print(model.doesnt_match(\"man woman child kitchen\".split()))\n",
    "print(model.doesnt_match('france england germany berlin'.split()))"
   ]
  },
  {
   "cell_type": "code",
   "execution_count": 10,
   "metadata": {
    "collapsed": false
   },
   "outputs": [
    {
     "data": {
      "text/plain": [
       "[('woman', 0.6256189346313477),\n",
       " ('lady', 0.5953349471092224),\n",
       " ('lad', 0.576863169670105),\n",
       " ('person', 0.5407935380935669),\n",
       " ('farmer', 0.5382746458053589),\n",
       " ('chap', 0.536788821220398),\n",
       " ('soldier', 0.5292650461196899),\n",
       " ('men', 0.5261573791503906),\n",
       " ('monk', 0.5237958431243896),\n",
       " ('guy', 0.5213091373443604)]"
      ]
     },
     "execution_count": 10,
     "metadata": {},
     "output_type": "execute_result"
    }
   ],
   "source": [
    "model.most_similar(\"man\")"
   ]
  },
  {
   "cell_type": "code",
   "execution_count": 11,
   "metadata": {
    "collapsed": false
   },
   "outputs": [
    {
     "data": {
      "text/plain": [
       "[('princess', 0.6749982833862305),\n",
       " ('maid', 0.6223365068435669),\n",
       " ('bride', 0.6201028227806091),\n",
       " ('belle', 0.6200867891311646),\n",
       " ('temple', 0.6171057224273682),\n",
       " ('stripper', 0.608874499797821),\n",
       " ('catherine', 0.6072724461555481),\n",
       " ('eva', 0.6019693613052368),\n",
       " ('dancer', 0.594109833240509),\n",
       " ('sylvia', 0.5933606624603271)]"
      ]
     },
     "execution_count": 11,
     "metadata": {},
     "output_type": "execute_result"
    }
   ],
   "source": [
    "model.most_similar(\"queen\")"
   ]
  },
  {
   "cell_type": "code",
   "execution_count": 12,
   "metadata": {
    "collapsed": false
   },
   "outputs": [
    {
     "data": {
      "text/plain": [
       "[('terrible', 0.7551683187484741),\n",
       " ('atrocious', 0.7340768575668335),\n",
       " ('horrible', 0.7315883040428162),\n",
       " ('dreadful', 0.7080680131912231),\n",
       " ('abysmal', 0.7010548114776611),\n",
       " ('horrendous', 0.6951696872711182),\n",
       " ('appalling', 0.691646933555603),\n",
       " ('horrid', 0.6708598136901855),\n",
       " ('amateurish', 0.6481891870498657),\n",
       " ('embarrassing', 0.6306308507919312)]"
      ]
     },
     "execution_count": 12,
     "metadata": {},
     "output_type": "execute_result"
    }
   ],
   "source": [
    "model.most_similar(\"awful\")"
   ]
  },
  {
   "cell_type": "markdown",
   "metadata": {
    "collapsed": true
   },
   "source": [
    "### With the Word2Vec model, we can now create vector representations of reviews\n",
    "\n",
    "Take all the words representing the review (as in part 1) and average their word vectors."
   ]
  },
  {
   "cell_type": "code",
   "execution_count": 7,
   "metadata": {
    "collapsed": false
   },
   "outputs": [
    {
     "name": "stdout",
     "output_type": "stream",
     "text": [
      "Number of reviews: 25000\n"
     ]
    },
    {
     "data": {
      "text/html": [
       "<div>\n",
       "<table border=\"1\" class=\"dataframe\">\n",
       "  <thead>\n",
       "    <tr style=\"text-align: right;\">\n",
       "      <th></th>\n",
       "      <th>id</th>\n",
       "      <th>sentiment</th>\n",
       "      <th>review</th>\n",
       "    </tr>\n",
       "  </thead>\n",
       "  <tbody>\n",
       "    <tr>\n",
       "      <th>0</th>\n",
       "      <td>5814_8</td>\n",
       "      <td>1</td>\n",
       "      <td>With all this stuff going down at the moment w...</td>\n",
       "    </tr>\n",
       "    <tr>\n",
       "      <th>1</th>\n",
       "      <td>2381_9</td>\n",
       "      <td>1</td>\n",
       "      <td>\"The Classic War of the Worlds\" by Timothy Hin...</td>\n",
       "    </tr>\n",
       "    <tr>\n",
       "      <th>2</th>\n",
       "      <td>7759_3</td>\n",
       "      <td>0</td>\n",
       "      <td>The film starts with a manager (Nicholas Bell)...</td>\n",
       "    </tr>\n",
       "    <tr>\n",
       "      <th>3</th>\n",
       "      <td>3630_4</td>\n",
       "      <td>0</td>\n",
       "      <td>It must be assumed that those who praised this...</td>\n",
       "    </tr>\n",
       "    <tr>\n",
       "      <th>4</th>\n",
       "      <td>9495_8</td>\n",
       "      <td>1</td>\n",
       "      <td>Superbly trashy and wondrously unpretentious 8...</td>\n",
       "    </tr>\n",
       "  </tbody>\n",
       "</table>\n",
       "</div>"
      ],
      "text/plain": [
       "       id  sentiment                                             review\n",
       "0  5814_8          1  With all this stuff going down at the moment w...\n",
       "1  2381_9          1  \"The Classic War of the Worlds\" by Timothy Hin...\n",
       "2  7759_3          0  The film starts with a manager (Nicholas Bell)...\n",
       "3  3630_4          0  It must be assumed that those who praised this...\n",
       "4  9495_8          1  Superbly trashy and wondrously unpretentious 8..."
      ]
     },
     "execution_count": 7,
     "metadata": {},
     "output_type": "execute_result"
    }
   ],
   "source": [
    "df = load_dataset('labeled_train')\n",
    "df.head()"
   ]
  },
  {
   "cell_type": "code",
   "execution_count": 8,
   "metadata": {
    "collapsed": true
   },
   "outputs": [],
   "source": [
    "def to_review_vector(review):\n",
    "    words = clean_text(review, remove_stopwords=True)\n",
    "    array = np.array([model[w] for w in words if w in model])\n",
    "    return pd.Series(array.mean(axis=0))"
   ]
  },
  {
   "cell_type": "code",
   "execution_count": 9,
   "metadata": {
    "collapsed": false
   },
   "outputs": [
    {
     "data": {
      "text/html": [
       "<div>\n",
       "<table border=\"1\" class=\"dataframe\">\n",
       "  <thead>\n",
       "    <tr style=\"text-align: right;\">\n",
       "      <th></th>\n",
       "      <th>0</th>\n",
       "      <th>1</th>\n",
       "      <th>2</th>\n",
       "      <th>3</th>\n",
       "      <th>4</th>\n",
       "      <th>5</th>\n",
       "      <th>6</th>\n",
       "      <th>7</th>\n",
       "      <th>8</th>\n",
       "      <th>9</th>\n",
       "      <th>...</th>\n",
       "      <th>290</th>\n",
       "      <th>291</th>\n",
       "      <th>292</th>\n",
       "      <th>293</th>\n",
       "      <th>294</th>\n",
       "      <th>295</th>\n",
       "      <th>296</th>\n",
       "      <th>297</th>\n",
       "      <th>298</th>\n",
       "      <th>299</th>\n",
       "    </tr>\n",
       "  </thead>\n",
       "  <tbody>\n",
       "    <tr>\n",
       "      <th>0</th>\n",
       "      <td>-0.005454</td>\n",
       "      <td>-0.006304</td>\n",
       "      <td>0.019711</td>\n",
       "      <td>0.002696</td>\n",
       "      <td>-0.009633</td>\n",
       "      <td>-0.007165</td>\n",
       "      <td>-0.000097</td>\n",
       "      <td>0.012100</td>\n",
       "      <td>0.023512</td>\n",
       "      <td>0.005115</td>\n",
       "      <td>...</td>\n",
       "      <td>-0.003228</td>\n",
       "      <td>-0.000991</td>\n",
       "      <td>-0.002044</td>\n",
       "      <td>0.005908</td>\n",
       "      <td>0.005332</td>\n",
       "      <td>0.005427</td>\n",
       "      <td>0.004184</td>\n",
       "      <td>-0.007288</td>\n",
       "      <td>0.027719</td>\n",
       "      <td>0.011447</td>\n",
       "    </tr>\n",
       "    <tr>\n",
       "      <th>1</th>\n",
       "      <td>-0.011847</td>\n",
       "      <td>-0.002713</td>\n",
       "      <td>0.041218</td>\n",
       "      <td>-0.018987</td>\n",
       "      <td>-0.018241</td>\n",
       "      <td>-0.021992</td>\n",
       "      <td>-0.027039</td>\n",
       "      <td>0.023703</td>\n",
       "      <td>0.054601</td>\n",
       "      <td>0.004215</td>\n",
       "      <td>...</td>\n",
       "      <td>-0.024287</td>\n",
       "      <td>0.010150</td>\n",
       "      <td>-0.012596</td>\n",
       "      <td>-0.016019</td>\n",
       "      <td>0.000792</td>\n",
       "      <td>-0.002985</td>\n",
       "      <td>-0.009311</td>\n",
       "      <td>-0.011830</td>\n",
       "      <td>0.014108</td>\n",
       "      <td>0.022902</td>\n",
       "    </tr>\n",
       "    <tr>\n",
       "      <th>2</th>\n",
       "      <td>-0.028175</td>\n",
       "      <td>0.001474</td>\n",
       "      <td>0.008125</td>\n",
       "      <td>-0.019340</td>\n",
       "      <td>-0.038524</td>\n",
       "      <td>-0.017802</td>\n",
       "      <td>-0.031166</td>\n",
       "      <td>0.000145</td>\n",
       "      <td>0.038809</td>\n",
       "      <td>0.003583</td>\n",
       "      <td>...</td>\n",
       "      <td>0.002452</td>\n",
       "      <td>0.004443</td>\n",
       "      <td>-0.015119</td>\n",
       "      <td>0.010723</td>\n",
       "      <td>-0.011887</td>\n",
       "      <td>0.021536</td>\n",
       "      <td>0.013621</td>\n",
       "      <td>-0.013268</td>\n",
       "      <td>0.019888</td>\n",
       "      <td>0.003641</td>\n",
       "    </tr>\n",
       "    <tr>\n",
       "      <th>3</th>\n",
       "      <td>-0.024626</td>\n",
       "      <td>-0.006715</td>\n",
       "      <td>0.032918</td>\n",
       "      <td>-0.020560</td>\n",
       "      <td>-0.037079</td>\n",
       "      <td>-0.021495</td>\n",
       "      <td>-0.022226</td>\n",
       "      <td>-0.006984</td>\n",
       "      <td>0.047868</td>\n",
       "      <td>0.006594</td>\n",
       "      <td>...</td>\n",
       "      <td>-0.002942</td>\n",
       "      <td>0.017494</td>\n",
       "      <td>-0.016277</td>\n",
       "      <td>-0.006731</td>\n",
       "      <td>0.000734</td>\n",
       "      <td>0.011033</td>\n",
       "      <td>-0.004642</td>\n",
       "      <td>0.004115</td>\n",
       "      <td>0.013974</td>\n",
       "      <td>0.013784</td>\n",
       "    </tr>\n",
       "    <tr>\n",
       "      <th>4</th>\n",
       "      <td>-0.019951</td>\n",
       "      <td>-0.002109</td>\n",
       "      <td>0.010210</td>\n",
       "      <td>-0.016458</td>\n",
       "      <td>-0.034194</td>\n",
       "      <td>-0.019208</td>\n",
       "      <td>-0.000223</td>\n",
       "      <td>-0.006509</td>\n",
       "      <td>0.024472</td>\n",
       "      <td>0.006015</td>\n",
       "      <td>...</td>\n",
       "      <td>0.002908</td>\n",
       "      <td>0.004384</td>\n",
       "      <td>-0.006123</td>\n",
       "      <td>0.007581</td>\n",
       "      <td>-0.006920</td>\n",
       "      <td>0.019001</td>\n",
       "      <td>0.009619</td>\n",
       "      <td>-0.007976</td>\n",
       "      <td>0.020669</td>\n",
       "      <td>-0.004658</td>\n",
       "    </tr>\n",
       "  </tbody>\n",
       "</table>\n",
       "<p>5 rows × 300 columns</p>\n",
       "</div>"
      ],
      "text/plain": [
       "        0         1         2         3         4         5         6    \\\n",
       "0 -0.005454 -0.006304  0.019711  0.002696 -0.009633 -0.007165 -0.000097   \n",
       "1 -0.011847 -0.002713  0.041218 -0.018987 -0.018241 -0.021992 -0.027039   \n",
       "2 -0.028175  0.001474  0.008125 -0.019340 -0.038524 -0.017802 -0.031166   \n",
       "3 -0.024626 -0.006715  0.032918 -0.020560 -0.037079 -0.021495 -0.022226   \n",
       "4 -0.019951 -0.002109  0.010210 -0.016458 -0.034194 -0.019208 -0.000223   \n",
       "\n",
       "        7         8         9      ...          290       291       292  \\\n",
       "0  0.012100  0.023512  0.005115    ...    -0.003228 -0.000991 -0.002044   \n",
       "1  0.023703  0.054601  0.004215    ...    -0.024287  0.010150 -0.012596   \n",
       "2  0.000145  0.038809  0.003583    ...     0.002452  0.004443 -0.015119   \n",
       "3 -0.006984  0.047868  0.006594    ...    -0.002942  0.017494 -0.016277   \n",
       "4 -0.006509  0.024472  0.006015    ...     0.002908  0.004384 -0.006123   \n",
       "\n",
       "        293       294       295       296       297       298       299  \n",
       "0  0.005908  0.005332  0.005427  0.004184 -0.007288  0.027719  0.011447  \n",
       "1 -0.016019  0.000792 -0.002985 -0.009311 -0.011830  0.014108  0.022902  \n",
       "2  0.010723 -0.011887  0.021536  0.013621 -0.013268  0.019888  0.003641  \n",
       "3 -0.006731  0.000734  0.011033 -0.004642  0.004115  0.013974  0.013784  \n",
       "4  0.007581 -0.006920  0.019001  0.009619 -0.007976  0.020669 -0.004658  \n",
       "\n",
       "[5 rows x 300 columns]"
      ]
     },
     "execution_count": 9,
     "metadata": {},
     "output_type": "execute_result"
    }
   ],
   "source": [
    "train_data_features = df.review.apply(to_review_vector)\n",
    "train_data_features.head()"
   ]
  },
  {
   "cell_type": "markdown",
   "metadata": {},
   "source": [
    "### Now we can train a RandomForest model\n",
    "Just as in part 1"
   ]
  },
  {
   "cell_type": "code",
   "execution_count": 10,
   "metadata": {
    "collapsed": true
   },
   "outputs": [],
   "source": [
    "forest = RandomForestClassifier(n_estimators = 100)\n",
    "forest = forest.fit(train_data_features, df.sentiment)"
   ]
  },
  {
   "cell_type": "markdown",
   "metadata": {},
   "source": [
    "##### Should be more or less perfect. Not correct to test on training data, but this just verifies model consistency"
   ]
  },
  {
   "cell_type": "code",
   "execution_count": 11,
   "metadata": {
    "collapsed": false
   },
   "outputs": [
    {
     "data": {
      "text/plain": [
       "array([[12500,     0],\n",
       "       [    0, 12500]])"
      ]
     },
     "execution_count": 11,
     "metadata": {},
     "output_type": "execute_result"
    }
   ],
   "source": [
    "confusion_matrix(df.sentiment, forest.predict(train_data_features))"
   ]
  },
  {
   "cell_type": "markdown",
   "metadata": {},
   "source": [
    "### Clean up some resources"
   ]
  },
  {
   "cell_type": "code",
   "execution_count": 12,
   "metadata": {
    "collapsed": false
   },
   "outputs": [],
   "source": [
    "del df\n",
    "del train_data_features"
   ]
  },
  {
   "cell_type": "markdown",
   "metadata": {},
   "source": [
    "### Predict the unlabeled test data and save the file for upload to kaggle"
   ]
  },
  {
   "cell_type": "code",
   "execution_count": 15,
   "metadata": {
    "collapsed": false
   },
   "outputs": [
    {
     "name": "stdout",
     "output_type": "stream",
     "text": [
      "Number of reviews: 25000\n"
     ]
    },
    {
     "data": {
      "text/html": [
       "<div>\n",
       "<table border=\"1\" class=\"dataframe\">\n",
       "  <thead>\n",
       "    <tr style=\"text-align: right;\">\n",
       "      <th></th>\n",
       "      <th>id</th>\n",
       "      <th>review</th>\n",
       "    </tr>\n",
       "  </thead>\n",
       "  <tbody>\n",
       "    <tr>\n",
       "      <th>0</th>\n",
       "      <td>12311_10</td>\n",
       "      <td>Naturally in a film who's main themes are of m...</td>\n",
       "    </tr>\n",
       "    <tr>\n",
       "      <th>1</th>\n",
       "      <td>8348_2</td>\n",
       "      <td>This movie is a disaster within a disaster fil...</td>\n",
       "    </tr>\n",
       "    <tr>\n",
       "      <th>2</th>\n",
       "      <td>5828_4</td>\n",
       "      <td>All in all, this is a movie for kids. We saw i...</td>\n",
       "    </tr>\n",
       "    <tr>\n",
       "      <th>3</th>\n",
       "      <td>7186_2</td>\n",
       "      <td>Afraid of the Dark left me with the impression...</td>\n",
       "    </tr>\n",
       "    <tr>\n",
       "      <th>4</th>\n",
       "      <td>12128_7</td>\n",
       "      <td>A very accurate depiction of small time mob li...</td>\n",
       "    </tr>\n",
       "  </tbody>\n",
       "</table>\n",
       "</div>"
      ],
      "text/plain": [
       "         id                                             review\n",
       "0  12311_10  Naturally in a film who's main themes are of m...\n",
       "1    8348_2  This movie is a disaster within a disaster fil...\n",
       "2    5828_4  All in all, this is a movie for kids. We saw i...\n",
       "3    7186_2  Afraid of the Dark left me with the impression...\n",
       "4   12128_7  A very accurate depiction of small time mob li..."
      ]
     },
     "execution_count": 15,
     "metadata": {},
     "output_type": "execute_result"
    }
   ],
   "source": [
    "df = load_dataset('test')\n",
    "df.head()"
   ]
  },
  {
   "cell_type": "code",
   "execution_count": 16,
   "metadata": {
    "collapsed": false
   },
   "outputs": [
    {
     "data": {
      "text/html": [
       "<div>\n",
       "<table border=\"1\" class=\"dataframe\">\n",
       "  <thead>\n",
       "    <tr style=\"text-align: right;\">\n",
       "      <th></th>\n",
       "      <th>0</th>\n",
       "      <th>1</th>\n",
       "      <th>2</th>\n",
       "      <th>3</th>\n",
       "      <th>4</th>\n",
       "      <th>5</th>\n",
       "      <th>6</th>\n",
       "      <th>7</th>\n",
       "      <th>8</th>\n",
       "      <th>9</th>\n",
       "      <th>...</th>\n",
       "      <th>290</th>\n",
       "      <th>291</th>\n",
       "      <th>292</th>\n",
       "      <th>293</th>\n",
       "      <th>294</th>\n",
       "      <th>295</th>\n",
       "      <th>296</th>\n",
       "      <th>297</th>\n",
       "      <th>298</th>\n",
       "      <th>299</th>\n",
       "    </tr>\n",
       "  </thead>\n",
       "  <tbody>\n",
       "    <tr>\n",
       "      <th>0</th>\n",
       "      <td>-0.019753</td>\n",
       "      <td>-0.005689</td>\n",
       "      <td>0.015961</td>\n",
       "      <td>-0.038633</td>\n",
       "      <td>-0.041745</td>\n",
       "      <td>-0.044680</td>\n",
       "      <td>-0.012790</td>\n",
       "      <td>0.004908</td>\n",
       "      <td>0.053838</td>\n",
       "      <td>0.008490</td>\n",
       "      <td>...</td>\n",
       "      <td>-0.005520</td>\n",
       "      <td>0.034378</td>\n",
       "      <td>-0.027250</td>\n",
       "      <td>0.010244</td>\n",
       "      <td>-0.008976</td>\n",
       "      <td>0.010181</td>\n",
       "      <td>-0.027196</td>\n",
       "      <td>0.010429</td>\n",
       "      <td>0.021153</td>\n",
       "      <td>0.015764</td>\n",
       "    </tr>\n",
       "    <tr>\n",
       "      <th>1</th>\n",
       "      <td>0.000497</td>\n",
       "      <td>-0.004140</td>\n",
       "      <td>0.019237</td>\n",
       "      <td>0.011341</td>\n",
       "      <td>-0.020860</td>\n",
       "      <td>-0.013085</td>\n",
       "      <td>-0.005469</td>\n",
       "      <td>0.015154</td>\n",
       "      <td>0.022737</td>\n",
       "      <td>0.009717</td>\n",
       "      <td>...</td>\n",
       "      <td>0.005757</td>\n",
       "      <td>0.018115</td>\n",
       "      <td>-0.010495</td>\n",
       "      <td>-0.007650</td>\n",
       "      <td>0.000969</td>\n",
       "      <td>0.018796</td>\n",
       "      <td>-0.003173</td>\n",
       "      <td>0.001657</td>\n",
       "      <td>0.014491</td>\n",
       "      <td>0.026732</td>\n",
       "    </tr>\n",
       "    <tr>\n",
       "      <th>2</th>\n",
       "      <td>-0.015999</td>\n",
       "      <td>-0.012097</td>\n",
       "      <td>0.022069</td>\n",
       "      <td>-0.014368</td>\n",
       "      <td>-0.020226</td>\n",
       "      <td>-0.015809</td>\n",
       "      <td>-0.000826</td>\n",
       "      <td>0.010130</td>\n",
       "      <td>0.033976</td>\n",
       "      <td>0.005700</td>\n",
       "      <td>...</td>\n",
       "      <td>0.001799</td>\n",
       "      <td>0.012403</td>\n",
       "      <td>-0.022812</td>\n",
       "      <td>0.011651</td>\n",
       "      <td>0.001775</td>\n",
       "      <td>0.009241</td>\n",
       "      <td>0.003241</td>\n",
       "      <td>-0.002865</td>\n",
       "      <td>0.027701</td>\n",
       "      <td>0.028418</td>\n",
       "    </tr>\n",
       "    <tr>\n",
       "      <th>3</th>\n",
       "      <td>-0.015196</td>\n",
       "      <td>-0.013445</td>\n",
       "      <td>0.010499</td>\n",
       "      <td>-0.035669</td>\n",
       "      <td>-0.040131</td>\n",
       "      <td>-0.018273</td>\n",
       "      <td>-0.020452</td>\n",
       "      <td>-0.003197</td>\n",
       "      <td>0.026555</td>\n",
       "      <td>0.008284</td>\n",
       "      <td>...</td>\n",
       "      <td>0.011720</td>\n",
       "      <td>0.010397</td>\n",
       "      <td>-0.029256</td>\n",
       "      <td>0.007422</td>\n",
       "      <td>-0.000662</td>\n",
       "      <td>0.020593</td>\n",
       "      <td>0.001274</td>\n",
       "      <td>-0.014059</td>\n",
       "      <td>0.024905</td>\n",
       "      <td>0.024326</td>\n",
       "    </tr>\n",
       "    <tr>\n",
       "      <th>4</th>\n",
       "      <td>-0.016140</td>\n",
       "      <td>-0.015608</td>\n",
       "      <td>0.010962</td>\n",
       "      <td>-0.008424</td>\n",
       "      <td>-0.022619</td>\n",
       "      <td>-0.022396</td>\n",
       "      <td>-0.018043</td>\n",
       "      <td>0.012519</td>\n",
       "      <td>0.032103</td>\n",
       "      <td>0.009743</td>\n",
       "      <td>...</td>\n",
       "      <td>-0.001820</td>\n",
       "      <td>0.004578</td>\n",
       "      <td>-0.008875</td>\n",
       "      <td>0.009702</td>\n",
       "      <td>-0.012013</td>\n",
       "      <td>0.010689</td>\n",
       "      <td>-0.003468</td>\n",
       "      <td>-0.003109</td>\n",
       "      <td>0.026661</td>\n",
       "      <td>0.005735</td>\n",
       "    </tr>\n",
       "  </tbody>\n",
       "</table>\n",
       "<p>5 rows × 300 columns</p>\n",
       "</div>"
      ],
      "text/plain": [
       "        0         1         2         3         4         5         6    \\\n",
       "0 -0.019753 -0.005689  0.015961 -0.038633 -0.041745 -0.044680 -0.012790   \n",
       "1  0.000497 -0.004140  0.019237  0.011341 -0.020860 -0.013085 -0.005469   \n",
       "2 -0.015999 -0.012097  0.022069 -0.014368 -0.020226 -0.015809 -0.000826   \n",
       "3 -0.015196 -0.013445  0.010499 -0.035669 -0.040131 -0.018273 -0.020452   \n",
       "4 -0.016140 -0.015608  0.010962 -0.008424 -0.022619 -0.022396 -0.018043   \n",
       "\n",
       "        7         8         9      ...          290       291       292  \\\n",
       "0  0.004908  0.053838  0.008490    ...    -0.005520  0.034378 -0.027250   \n",
       "1  0.015154  0.022737  0.009717    ...     0.005757  0.018115 -0.010495   \n",
       "2  0.010130  0.033976  0.005700    ...     0.001799  0.012403 -0.022812   \n",
       "3 -0.003197  0.026555  0.008284    ...     0.011720  0.010397 -0.029256   \n",
       "4  0.012519  0.032103  0.009743    ...    -0.001820  0.004578 -0.008875   \n",
       "\n",
       "        293       294       295       296       297       298       299  \n",
       "0  0.010244 -0.008976  0.010181 -0.027196  0.010429  0.021153  0.015764  \n",
       "1 -0.007650  0.000969  0.018796 -0.003173  0.001657  0.014491  0.026732  \n",
       "2  0.011651  0.001775  0.009241  0.003241 -0.002865  0.027701  0.028418  \n",
       "3  0.007422 -0.000662  0.020593  0.001274 -0.014059  0.024905  0.024326  \n",
       "4  0.009702 -0.012013  0.010689 -0.003468 -0.003109  0.026661  0.005735  \n",
       "\n",
       "[5 rows x 300 columns]"
      ]
     },
     "execution_count": 16,
     "metadata": {},
     "output_type": "execute_result"
    }
   ],
   "source": [
    "test_data_features = df.review.apply(to_review_vector)\n",
    "test_data_features.head()"
   ]
  },
  {
   "cell_type": "code",
   "execution_count": 17,
   "metadata": {
    "collapsed": false
   },
   "outputs": [
    {
     "data": {
      "text/html": [
       "<div>\n",
       "<table border=\"1\" class=\"dataframe\">\n",
       "  <thead>\n",
       "    <tr style=\"text-align: right;\">\n",
       "      <th></th>\n",
       "      <th>id</th>\n",
       "      <th>sentiment</th>\n",
       "    </tr>\n",
       "  </thead>\n",
       "  <tbody>\n",
       "    <tr>\n",
       "      <th>0</th>\n",
       "      <td>12311_10</td>\n",
       "      <td>1</td>\n",
       "    </tr>\n",
       "    <tr>\n",
       "      <th>1</th>\n",
       "      <td>8348_2</td>\n",
       "      <td>0</td>\n",
       "    </tr>\n",
       "    <tr>\n",
       "      <th>2</th>\n",
       "      <td>5828_4</td>\n",
       "      <td>0</td>\n",
       "    </tr>\n",
       "    <tr>\n",
       "      <th>3</th>\n",
       "      <td>7186_2</td>\n",
       "      <td>0</td>\n",
       "    </tr>\n",
       "    <tr>\n",
       "      <th>4</th>\n",
       "      <td>12128_7</td>\n",
       "      <td>1</td>\n",
       "    </tr>\n",
       "  </tbody>\n",
       "</table>\n",
       "</div>"
      ],
      "text/plain": [
       "         id  sentiment\n",
       "0  12311_10          1\n",
       "1    8348_2          0\n",
       "2    5828_4          0\n",
       "3    7186_2          0\n",
       "4   12128_7          1"
      ]
     },
     "execution_count": 17,
     "metadata": {},
     "output_type": "execute_result"
    }
   ],
   "source": [
    "result = forest.predict(test_data_features)\n",
    "output = pd.DataFrame({'id':df.id, 'sentiment':result})\n",
    "output.to_csv(os.path.join('..', 'data', 'Word2Vec_model.csv'), index=False)\n",
    "output.head()"
   ]
  },
  {
   "cell_type": "code",
   "execution_count": 18,
   "metadata": {
    "collapsed": false
   },
   "outputs": [
    {
     "data": {
      "text/plain": [
       "1    12508\n",
       "0    12492\n",
       "Name: sentiment, dtype: int64"
      ]
     },
     "execution_count": 18,
     "metadata": {},
     "output_type": "execute_result"
    }
   ],
   "source": [
    "output.sentiment.value_counts()"
   ]
  },
  {
   "cell_type": "code",
   "execution_count": null,
   "metadata": {
    "collapsed": true
   },
   "outputs": [],
   "source": []
  }
 ],
 "metadata": {
  "kernelspec": {
   "display_name": "kaggle-nlp",
   "language": "python",
   "name": "kaggle-nlp"
  },
  "language_info": {
   "codemirror_mode": {
    "name": "ipython",
    "version": 3
   },
   "file_extension": ".py",
   "mimetype": "text/x-python",
   "name": "python",
   "nbconvert_exporter": "python",
   "pygments_lexer": "ipython3",
   "version": "3.5.1"
  }
 },
 "nbformat": 4,
 "nbformat_minor": 0
}
